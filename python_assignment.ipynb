{
 "cells": [
  {
   "cell_type": "markdown",
   "id": "84f422c5",
   "metadata": {},
   "source": [
    "# Python Programing Assignment"
   ]
  },
  {
   "cell_type": "markdown",
   "id": "4adad0cd",
   "metadata": {},
   "source": [
    "Name : Bishal Paul\n"
   ]
  },
  {
   "cell_type": "markdown",
   "id": "6e361887",
   "metadata": {},
   "source": [
    "ID : 17-35836-3 "
   ]
  },
  {
   "cell_type": "markdown",
   "id": "aef708df",
   "metadata": {},
   "source": [
    "# Problem - 1 "
   ]
  },
  {
   "cell_type": "markdown",
   "id": "ac0114d1",
   "metadata": {},
   "source": [
    "* Two list and concatenate"
   ]
  },
  {
   "cell_type": "code",
   "execution_count": 60,
   "id": "e44d17b4",
   "metadata": {},
   "outputs": [
    {
     "name": "stdout",
     "output_type": "stream",
     "text": [
      "python, is, my, favourite, language\n"
     ]
    }
   ],
   "source": [
    "list1 = [\"py\", \"i\", \"m\", \"favou\", \"lang\"]\n",
    "list2 = [\"thon\", \"s\", \"y\", \"rite\", \"uage\"]\n",
    "list_concate = ''.join([list1[0]+ list2[0] + \", \"] + [list1[1] + list2[1] + \", \"] + [list1[2]+ list2[2] + \", \"] + [list1[3] + list2[3] + \", \"] + [list1[4] + list2[4]])\n",
    "print(list_concate)\n"
   ]
  },
  {
   "cell_type": "markdown",
   "id": "c2bb536b",
   "metadata": {},
   "source": [
    "# Problem - 2"
   ]
  },
  {
   "cell_type": "markdown",
   "id": "53fda206",
   "metadata": {},
   "source": [
    "* NumPy array create another array which contains the odd rows and even colum"
   ]
  },
  {
   "cell_type": "code",
   "execution_count": 63,
   "id": "883f813a",
   "metadata": {},
   "outputs": [
    {
     "data": {
      "text/plain": [
       "array([[66, 12],\n",
       "       [90, 67],\n",
       "       [44, 77]])"
      ]
     },
     "execution_count": 63,
     "metadata": {},
     "output_type": "execute_result"
    }
   ],
   "source": [
    "import numpy\n",
    "arr = numpy.array([[20 ,66, 88, 12], \n",
    "                   [75 ,19, 92, 71], \n",
    "                   [27 ,90, 33, 67], \n",
    "                   [21 ,14, 25, 38], \n",
    "                   [51 ,44, 57, 77]])\n",
    "arr[::2]   \n",
    "arr[:, 1::2]\n",
    "arr[::2, 1::2]"
   ]
  },
  {
   "cell_type": "markdown",
   "id": "224d9810",
   "metadata": {},
   "source": [
    "# Problem - 3"
   ]
  },
  {
   "cell_type": "markdown",
   "id": "c5353a5f",
   "metadata": {},
   "source": [
    "* Create an 8x3 NumPy integer array from a range between 10 to 34 (using numpy.arange() function) such that the difference betweeneach element is 1 and then Split the array into 4 (four) equal-sized sub-arrays."
   ]
  },
  {
   "cell_type": "code",
   "execution_count": 49,
   "id": "b359c809",
   "metadata": {},
   "outputs": [
    {
     "name": "stdout",
     "output_type": "stream",
     "text": [
      "Creating 8X3 array using numpy\n",
      "\n",
      "[[10 11 12]\n",
      " [13 14 15]\n",
      " [16 17 18]\n",
      " [19 20 21]\n",
      " [22 23 24]\n",
      " [25 26 27]\n",
      " [28 29 30]\n",
      " [31 32 33]]\n",
      "\n",
      "Dividing 8X3 array into 4 sub array\n",
      "\n",
      "[array([[10, 11, 12],\n",
      "       [13, 14, 15]]), array([[16, 17, 18],\n",
      "       [19, 20, 21]]), array([[22, 23, 24],\n",
      "       [25, 26, 27]]), array([[28, 29, 30],\n",
      "       [31, 32, 33]])]\n"
     ]
    }
   ],
   "source": [
    "import numpy\n",
    "\n",
    "print(\"Creating 8X3 array using numpy\\n\")\n",
    "sampleArray = numpy.arange(10, 34, 1)\n",
    "sampleArray = sampleArray.reshape(8,3)\n",
    "print (sampleArray)\n",
    "\n",
    "print(\"\\nDividing 8X3 array into 4 sub array\\n\")\n",
    "subArrays = numpy.split(sampleArray, 4) \n",
    "print(subArrays)"
   ]
  },
  {
   "cell_type": "markdown",
   "id": "0ed0c4a5",
   "metadata": {},
   "source": [
    "# Problem - 4"
   ]
  },
  {
   "cell_type": "markdown",
   "id": "18490ca8",
   "metadata": {},
   "source": [
    "* Create a 3x3 NumPy integer array"
   ]
  },
  {
   "cell_type": "code",
   "execution_count": 50,
   "id": "17508b55",
   "metadata": {},
   "outputs": [
    {
     "name": "stdout",
     "output_type": "stream",
     "text": [
      "Printing Original array\n",
      "[[34 43 73]\n",
      " [82 22 12]\n",
      " [53 94 66]]\n",
      "Sorting Original array by secoond row\n",
      "[[73 43 34]\n",
      " [12 22 82]\n",
      " [66 94 53]]\n",
      "Sorting Original array by secoond column\n",
      "[[82 22 12]\n",
      " [34 43 73]\n",
      " [53 94 66]]\n"
     ]
    }
   ],
   "source": [
    "import numpy\n",
    "\n",
    "print(\"Printing Original array\")\n",
    "Orginal_Array = numpy.array([[34,43,73],[82,22,12],[53,94,66]]) \n",
    "print (Orginal_Array)\n",
    "\n",
    "sort_By_Row = Orginal_Array[:,Orginal_Array[1,:].argsort()]\n",
    "print(\"Sorting Original array by secoond row\")\n",
    "print(sort_By_Row)\n",
    "\n",
    "print(\"Sorting Original array by secoond column\")\n",
    "sort_By_Column = Orginal_Array[Orginal_Array[:,1].argsort()]\n",
    "print(sort_By_Column)"
   ]
  },
  {
   "cell_type": "markdown",
   "id": "15285034",
   "metadata": {},
   "source": [
    "# Problem - 5"
   ]
  },
  {
   "cell_type": "code",
   "execution_count": 61,
   "id": "515c2653",
   "metadata": {},
   "outputs": [
    {
     "name": "stdout",
     "output_type": "stream",
     "text": [
      "Total Bus fare is: 5000\n"
     ]
    }
   ],
   "source": [
    "class Vehicle:\n",
    "    def __init__(self, name, mileage, capacity):\n",
    "        self.name = name\n",
    "        self.mileage = mileage\n",
    "        self.capacity = capacity\n",
    "\n",
    "    def fare(self):\n",
    "        return self.capacity * 100\n",
    "\n",
    "class Bus(Vehicle):\n",
    "    pass\n",
    "class Mini_Bus(Bus):\n",
    "    pass\n",
    "\n",
    "School_bus = Bus(\"School Volvo\", 12, 50)\n",
    "print(\"Total Bus fare is:\", School_bus.fare())"
   ]
  },
  {
   "cell_type": "markdown",
   "id": "536fba2b",
   "metadata": {},
   "source": [
    "# Problem - 6"
   ]
  },
  {
   "cell_type": "markdown",
   "id": "71c240ed",
   "metadata": {},
   "source": [
    "* Create a dictionary which contains all the reserved keywords and their meanings in Python programming languag. Also, create a functionto check wheter a given word (taken from user) is reserved keyword or not."
   ]
  },
  {
   "cell_type": "code",
   "execution_count": 144,
   "id": "0d97ea03",
   "metadata": {},
   "outputs": [
    {
     "name": "stdout",
     "output_type": "stream",
     "text": [
      "Enter a Keyword : try\n",
      "try Keyword is : True\n"
     ]
    }
   ],
   "source": [
    "import keyword\n",
    "def isKeyword(word) :\n",
    "    keyword_list = keyword.kwlist\n",
    "    if word in keyword_list :\n",
    "       return \"Yes\"\n",
    "    else :\n",
    "      return \"No\"\n",
    "if __name__ == '__main__':\n",
    "\ts = input(\"Enter a Keyword : \")\n",
    "\tiskey = keyword.iskeyword(s)\n",
    "\tprint(s,'Keyword is :',iskey)\n"
   ]
  },
  {
   "cell_type": "markdown",
   "id": "c6c2db74",
   "metadata": {},
   "source": [
    "# Problem - 7\n"
   ]
  },
  {
   "cell_type": "markdown",
   "id": "630301dc",
   "metadata": {},
   "source": [
    "* A sample pattern of Pascal Triange, which contains 7 rows:"
   ]
  },
  {
   "cell_type": "code",
   "execution_count": 55,
   "id": "e48196eb",
   "metadata": {
    "scrolled": true
   },
   "outputs": [
    {
     "name": "stdout",
     "output_type": "stream",
     "text": [
      "1  \n",
      "1  1  \n",
      "1  2  1  \n",
      "1  3  3  1  \n",
      "1  4  6  4  1  \n",
      "1  5  10  10  5  1  \n",
      "1  6  15  20  15  6  1  \n"
     ]
    }
   ],
   "source": [
    "def printPascal(n) :\n",
    "    \n",
    "    for line in range(0, n) :   \n",
    "        for i in range(0, line + 1) :\n",
    "            print(binomialCoeff(line, i),\n",
    "                \" \", end = \"\")\n",
    "        print()\n",
    "\n",
    "def binomialCoeff(n, k) :\n",
    "    res = 1\n",
    "    if (k > n - k) :\n",
    "        k = n - k\n",
    "    for i in range(0 , k) :\n",
    "        res = res * (n - i)\n",
    "        res = res // (i + 1)\n",
    "     \n",
    "    return res\n",
    "\n",
    "n = 7\n",
    "printPascal(n)"
   ]
  }
 ],
 "metadata": {
  "kernelspec": {
   "display_name": "Python 3",
   "language": "python",
   "name": "python3"
  },
  "language_info": {
   "codemirror_mode": {
    "name": "ipython",
    "version": 3
   },
   "file_extension": ".py",
   "mimetype": "text/x-python",
   "name": "python",
   "nbconvert_exporter": "python",
   "pygments_lexer": "ipython3",
   "version": "3.8.8"
  }
 },
 "nbformat": 4,
 "nbformat_minor": 5
}
